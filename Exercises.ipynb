{
 "cells": [
  {
   "cell_type": "code",
   "execution_count": 59,
   "id": "28ed6a25",
   "metadata": {
    "scrolled": true
   },
   "outputs": [
    {
     "data": {
      "text/latex": [
       "$\\displaystyle \\left\\{1, 3\\right\\}$"
      ],
      "text/plain": [
       "{1, 3}"
      ]
     },
     "metadata": {},
     "output_type": "display_data"
    }
   ],
   "source": [
    "from sympy import *\n",
    "from IPython.display import display\n",
    "\n",
    "x = symbols('x', real=True)\n",
    "ex = x**2-4*x+3\n",
    "res = solveset(ex, x)\n",
    "display(res)\n"
   ]
  },
  {
   "cell_type": "code",
   "execution_count": 55,
   "id": "83feaf00",
   "metadata": {
    "scrolled": true
   },
   "outputs": [
    {
     "data": {
      "text/latex": [
       "$\\displaystyle x^{2} - 5 x + 1$"
      ],
      "text/plain": [
       "x**2 - 5*x + 1"
      ]
     },
     "metadata": {},
     "output_type": "display_data"
    },
    {
     "data": {
      "text/latex": [
       "$\\displaystyle \\left\\{\\frac{5}{2} - \\frac{\\sqrt{21}}{2}, \\frac{\\sqrt{21}}{2} + \\frac{5}{2}\\right\\}$"
      ],
      "text/plain": [
       "{5/2 - sqrt(21)/2, sqrt(21)/2 + 5/2}"
      ]
     },
     "metadata": {},
     "output_type": "display_data"
    }
   ],
   "source": [
    "ex2 = x**2-5*x+1\n",
    "display(ex2)\n",
    "res = solveset(ex2, x)\n",
    "display(res)"
   ]
  },
  {
   "cell_type": "code",
   "execution_count": 57,
   "id": "8bcb9199",
   "metadata": {},
   "outputs": [
    {
     "data": {
      "text/latex": [
       "$\\displaystyle 64 x^{2} + 16 x + 1$"
      ],
      "text/plain": [
       "64*x**2 + 16*x + 1"
      ]
     },
     "metadata": {},
     "output_type": "display_data"
    },
    {
     "data": {
      "text/latex": [
       "$\\displaystyle \\left\\{- \\frac{1}{8}\\right\\}$"
      ],
      "text/plain": [
       "{-1/8}"
      ]
     },
     "metadata": {},
     "output_type": "display_data"
    }
   ],
   "source": [
    "ex3 = 64*x**2 + 16*x+1\n",
    "display(ex3)\n",
    "res = solveset(ex3, x)\n",
    "display(res)"
   ]
  },
  {
   "cell_type": "code",
   "execution_count": 58,
   "id": "23bd1681",
   "metadata": {},
   "outputs": [
    {
     "data": {
      "text/latex": [
       "$\\displaystyle 2 x^{2} - 3 x + 2$"
      ],
      "text/plain": [
       "2*x**2 - 3*x + 2"
      ]
     },
     "metadata": {},
     "output_type": "display_data"
    },
    {
     "data": {
      "text/latex": [
       "$\\displaystyle \\left\\{\\frac{3}{4} - \\frac{\\sqrt{7} i}{4}, \\frac{3}{4} + \\frac{\\sqrt{7} i}{4}\\right\\}$"
      ],
      "text/plain": [
       "{3/4 - sqrt(7)*I/4, 3/4 + sqrt(7)*I/4}"
      ]
     },
     "metadata": {},
     "output_type": "display_data"
    }
   ],
   "source": [
    "ex4 = 2*x**2-3*x+2\n",
    "display(ex4)\n",
    "res = solveset(ex4, x)\n",
    "display(res)"
   ]
  },
  {
   "cell_type": "code",
   "execution_count": null,
   "id": "7dd62609",
   "metadata": {},
   "outputs": [],
   "source": []
  }
 ],
 "metadata": {
  "kernelspec": {
   "display_name": "Python 3 (ipykernel)",
   "language": "python",
   "name": "python3"
  },
  "language_info": {
   "codemirror_mode": {
    "name": "ipython",
    "version": 3
   },
   "file_extension": ".py",
   "mimetype": "text/x-python",
   "name": "python",
   "nbconvert_exporter": "python",
   "pygments_lexer": "ipython3",
   "version": "3.10.9"
  }
 },
 "nbformat": 4,
 "nbformat_minor": 5
}
