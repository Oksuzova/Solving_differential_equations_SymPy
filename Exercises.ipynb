{
 "cells": [
  {
   "cell_type": "code",
   "execution_count": 127,
   "id": "440ffdcb",
   "metadata": {
    "scrolled": true
   },
   "outputs": [
    {
     "data": {
      "text/latex": [
       "$\\displaystyle \\left\\{1, 3\\right\\}$"
      ],
      "text/plain": [
       "{1, 3}"
      ]
     },
     "metadata": {},
     "output_type": "display_data"
    }
   ],
   "source": [
    "from sympy import *\n",
    "from IPython.display import display\n",
    "\n",
    "# Solve quadratic equations\n",
    "\n",
    "x = symbols('x', real=True)\n",
    "a, b, c, C1, y, s, t, phi = symbols('a b c C1 y s t phi')\n",
    "\n",
    "ex = x**2-4*x+3\n",
    "res = solveset(ex, x)\n",
    "display(res)"
   ]
  },
  {
   "cell_type": "code",
   "execution_count": 55,
   "id": "8c84733a",
   "metadata": {
    "scrolled": true
   },
   "outputs": [
    {
     "data": {
      "text/latex": [
       "$\\displaystyle x^{2} - 5 x + 1$"
      ],
      "text/plain": [
       "x**2 - 5*x + 1"
      ]
     },
     "metadata": {},
     "output_type": "display_data"
    },
    {
     "data": {
      "text/latex": [
       "$\\displaystyle \\left\\{\\frac{5}{2} - \\frac{\\sqrt{21}}{2}, \\frac{\\sqrt{21}}{2} + \\frac{5}{2}\\right\\}$"
      ],
      "text/plain": [
       "{5/2 - sqrt(21)/2, sqrt(21)/2 + 5/2}"
      ]
     },
     "metadata": {},
     "output_type": "display_data"
    }
   ],
   "source": [
    "ex2 = x**2-5*x+1\n",
    "display(ex2)\n",
    "res = solveset(ex2, x)\n",
    "display(res)"
   ]
  },
  {
   "cell_type": "code",
   "execution_count": 57,
   "id": "3bc59883",
   "metadata": {},
   "outputs": [
    {
     "data": {
      "text/latex": [
       "$\\displaystyle 64 x^{2} + 16 x + 1$"
      ],
      "text/plain": [
       "64*x**2 + 16*x + 1"
      ]
     },
     "metadata": {},
     "output_type": "display_data"
    },
    {
     "data": {
      "text/latex": [
       "$\\displaystyle \\left\\{- \\frac{1}{8}\\right\\}$"
      ],
      "text/plain": [
       "{-1/8}"
      ]
     },
     "metadata": {},
     "output_type": "display_data"
    }
   ],
   "source": [
    "ex3 = 64*x**2 + 16*x+1\n",
    "display(ex3)\n",
    "res = solveset(ex3, x)\n",
    "display(res)"
   ]
  },
  {
   "cell_type": "code",
   "execution_count": 58,
   "id": "03ec7146",
   "metadata": {},
   "outputs": [
    {
     "data": {
      "text/latex": [
       "$\\displaystyle 2 x^{2} - 3 x + 2$"
      ],
      "text/plain": [
       "2*x**2 - 3*x + 2"
      ]
     },
     "metadata": {},
     "output_type": "display_data"
    },
    {
     "data": {
      "text/latex": [
       "$\\displaystyle \\left\\{\\frac{3}{4} - \\frac{\\sqrt{7} i}{4}, \\frac{3}{4} + \\frac{\\sqrt{7} i}{4}\\right\\}$"
      ],
      "text/plain": [
       "{3/4 - sqrt(7)*I/4, 3/4 + sqrt(7)*I/4}"
      ]
     },
     "metadata": {},
     "output_type": "display_data"
    }
   ],
   "source": [
    "ex4 = 2*x**2-3*x+2\n",
    "display(ex4)\n",
    "res = solveset(ex4, x)\n",
    "display(res)"
   ]
  },
  {
   "cell_type": "code",
   "execution_count": 65,
   "id": "36b99fa0",
   "metadata": {},
   "outputs": [
    {
     "data": {
      "text/latex": [
       "$\\displaystyle x^{3} - 3 x^{2} + 3 x - 1$"
      ],
      "text/plain": [
       "x**3 - 3*x**2 + 3*x - 1"
      ]
     },
     "metadata": {},
     "output_type": "display_data"
    },
    {
     "data": {
      "text/latex": [
       "$\\displaystyle \\left\\{1\\right\\}$"
      ],
      "text/plain": [
       "{1}"
      ]
     },
     "metadata": {},
     "output_type": "display_data"
    }
   ],
   "source": [
    "# Solve cubic equations, display only positive roots\n",
    "\n",
    "ex5 = x**3-3*x**2+3*x-1\n",
    "display(ex5)\n",
    "res = solveset(ex5, x)\n",
    "display(res)"
   ]
  },
  {
   "cell_type": "code",
   "execution_count": 86,
   "id": "e4fc9846",
   "metadata": {},
   "outputs": [
    {
     "data": {
      "text/latex": [
       "$\\displaystyle x^{3} - 7 x + 6$"
      ],
      "text/plain": [
       "x**3 - 7*x + 6"
      ]
     },
     "metadata": {},
     "output_type": "display_data"
    },
    {
     "data": {
      "text/latex": [
       "$\\displaystyle \\left\\{-3, 1, 2\\right\\}$"
      ],
      "text/plain": [
       "{-3, 1, 2}"
      ]
     },
     "metadata": {},
     "output_type": "display_data"
    },
    {
     "data": {
      "text/plain": [
       "{1, 2}"
      ]
     },
     "metadata": {},
     "output_type": "display_data"
    }
   ],
   "source": [
    "ex6 = x**3-7*x+6\n",
    "display(ex6)\n",
    "res = solveset(ex6, x)\n",
    "display(res)\n",
    "ans = [r for r in res if r > 0]\n",
    "display(set(ans))"
   ]
  },
  {
   "cell_type": "code",
   "execution_count": 87,
   "id": "0248e6f4",
   "metadata": {},
   "outputs": [
    {
     "data": {
      "text/latex": [
       "$\\displaystyle x^{3} - 2 x^{2} - 7 x - 4$"
      ],
      "text/plain": [
       "x**3 - 2*x**2 - 7*x - 4"
      ]
     },
     "metadata": {},
     "output_type": "display_data"
    },
    {
     "data": {
      "text/latex": [
       "$\\displaystyle \\left\\{-1, 4\\right\\}$"
      ],
      "text/plain": [
       "{-1, 4}"
      ]
     },
     "metadata": {},
     "output_type": "display_data"
    },
    {
     "data": {
      "text/plain": [
       "{4}"
      ]
     },
     "metadata": {},
     "output_type": "display_data"
    }
   ],
   "source": [
    "ex6 = x**3-2*x**2-7*x-4\n",
    "display(ex6)\n",
    "res = solveset(ex6, x)\n",
    "display(res)\n",
    "ans = [r for r in res if r > 0]\n",
    "display(set(ans))"
   ]
  },
  {
   "cell_type": "code",
   "execution_count": 90,
   "id": "c3e3e9ae",
   "metadata": {},
   "outputs": [
    {
     "data": {
      "text/latex": [
       "$\\displaystyle x^{3} + 7 x^{2} + 14 x + 8$"
      ],
      "text/plain": [
       "x**3 + 7*x**2 + 14*x + 8"
      ]
     },
     "metadata": {},
     "output_type": "display_data"
    },
    {
     "data": {
      "text/latex": [
       "$\\displaystyle \\left\\{-4, -2, -1\\right\\}$"
      ],
      "text/plain": [
       "{-4, -2, -1}"
      ]
     },
     "metadata": {},
     "output_type": "display_data"
    },
    {
     "name": "stdout",
     "output_type": "stream",
     "text": [
      "The positive answers does not exist\n"
     ]
    }
   ],
   "source": [
    "ex6 = x**3+7*x**2+14*x+8\n",
    "display(ex6)\n",
    "res = solveset(ex6, x)\n",
    "display(res)\n",
    "ans = [r for r in res if r > 0]\n",
    "if len(ans) == 0:\n",
    "    print(\"The positive answers does not exist\")\n",
    "else:\n",
    "    display(set(ans))"
   ]
  },
  {
   "cell_type": "code",
   "execution_count": 98,
   "id": "123f8be1",
   "metadata": {},
   "outputs": [
    {
     "data": {
      "text/latex": [
       "$\\displaystyle 5 x^{4} + x^{2} - 4$"
      ],
      "text/plain": [
       "5*x**4 + x**2 - 4"
      ]
     },
     "metadata": {},
     "output_type": "display_data"
    },
    {
     "data": {
      "text/latex": [
       "$\\displaystyle 20 x^{3} + 2 x$"
      ],
      "text/plain": [
       "20*x**3 + 2*x"
      ]
     },
     "metadata": {},
     "output_type": "display_data"
    }
   ],
   "source": [
    "# Compute Derivatives\n",
    "\n",
    "ex = 5*x**4+x**2-4\n",
    "display(ex)\n",
    "res = diff(ex, x)\n",
    "display(res)"
   ]
  },
  {
   "cell_type": "code",
   "execution_count": 102,
   "id": "691a30bd",
   "metadata": {},
   "outputs": [
    {
     "data": {
      "text/latex": [
       "$\\displaystyle a x^{2} + b x + c$"
      ],
      "text/plain": [
       "a*x**2 + b*x + c"
      ]
     },
     "metadata": {},
     "output_type": "display_data"
    },
    {
     "data": {
      "text/latex": [
       "$\\displaystyle 2 a x + b$"
      ],
      "text/plain": [
       "2*a*x + b"
      ]
     },
     "metadata": {},
     "output_type": "display_data"
    }
   ],
   "source": [
    "ex = a*x**2+b*x+c\n",
    "display(ex)\n",
    "res = diff(ex, x)\n",
    "display(res)"
   ]
  },
  {
   "cell_type": "code",
   "execution_count": 101,
   "id": "b054ae4f",
   "metadata": {},
   "outputs": [
    {
     "data": {
      "text/latex": [
       "$\\displaystyle \\sqrt{4 x + 2} e^{x}$"
      ],
      "text/plain": [
       "sqrt(4*x + 2)*exp(x)"
      ]
     },
     "metadata": {},
     "output_type": "display_data"
    },
    {
     "data": {
      "text/latex": [
       "$\\displaystyle \\sqrt{4 x + 2} e^{x} + \\frac{2 e^{x}}{\\sqrt{4 x + 2}}$"
      ],
      "text/plain": [
       "sqrt(4*x + 2)*exp(x) + 2*exp(x)/sqrt(4*x + 2)"
      ]
     },
     "metadata": {},
     "output_type": "display_data"
    }
   ],
   "source": [
    "ex = exp(x)*sqrt(4*x+2)\n",
    "display(ex)\n",
    "res = diff(ex, x)\n",
    "display(res)"
   ]
  },
  {
   "cell_type": "code",
   "execution_count": 103,
   "id": "74107d2d",
   "metadata": {},
   "outputs": [
    {
     "data": {
      "text/latex": [
       "$\\displaystyle \\operatorname{acos}{\\left(a^{2} - x^{2} \\right)}$"
      ],
      "text/plain": [
       "acos(a**2 - x**2)"
      ]
     },
     "metadata": {},
     "output_type": "display_data"
    },
    {
     "data": {
      "text/latex": [
       "$\\displaystyle \\frac{2 x}{\\sqrt{1 - \\left(a^{2} - x^{2}\\right)^{2}}}$"
      ],
      "text/plain": [
       "2*x/sqrt(1 - (a**2 - x**2)**2)"
      ]
     },
     "metadata": {},
     "output_type": "display_data"
    }
   ],
   "source": [
    "ex = acos(a**2-x**2)\n",
    "display(ex)\n",
    "res = diff(ex, x)\n",
    "display(res)"
   ]
  },
  {
   "cell_type": "code",
   "execution_count": 109,
   "id": "c46a15dd",
   "metadata": {},
   "outputs": [
    {
     "data": {
      "text/latex": [
       "$\\displaystyle x^{2} - 2 x + 3$"
      ],
      "text/plain": [
       "x**2 - 2*x + 3"
      ]
     },
     "metadata": {},
     "output_type": "display_data"
    },
    {
     "data": {
      "text/latex": [
       "$\\displaystyle C_{1} + \\frac{x^{3}}{3} - x^{2} + 3 x$"
      ],
      "text/plain": [
       "C1 + x**3/3 - x**2 + 3*x"
      ]
     },
     "metadata": {},
     "output_type": "display_data"
    }
   ],
   "source": [
    "# compute indefinite integrals\n",
    "\n",
    "ex = x**2-2*x+3\n",
    "display(ex)\n",
    "res = integrate(ex, x) + C1\n",
    "display(res)"
   ]
  },
  {
   "cell_type": "code",
   "execution_count": 114,
   "id": "9afc3998",
   "metadata": {},
   "outputs": [
    {
     "data": {
      "text/latex": [
       "$\\displaystyle y \\sin{\\left(y^{2} \\right)}$"
      ],
      "text/plain": [
       "y*sin(y**2)"
      ]
     },
     "metadata": {},
     "output_type": "display_data"
    },
    {
     "data": {
      "text/latex": [
       "$\\displaystyle C_{1} - \\frac{\\cos{\\left(y^{2} \\right)}}{2}$"
      ],
      "text/plain": [
       "C1 - cos(y**2)/2"
      ]
     },
     "metadata": {},
     "output_type": "display_data"
    }
   ],
   "source": [
    "ex = y*sin(y**2)\n",
    "display(ex)\n",
    "res = integrate(ex, y) + C1\n",
    "display(res)"
   ]
  },
  {
   "cell_type": "code",
   "execution_count": 116,
   "id": "bbca45d7",
   "metadata": {},
   "outputs": [
    {
     "data": {
      "text/latex": [
       "$\\displaystyle s e^{s}$"
      ],
      "text/plain": [
       "s*exp(s)"
      ]
     },
     "metadata": {},
     "output_type": "display_data"
    },
    {
     "data": {
      "text/latex": [
       "$\\displaystyle C_{1} + \\left(s - 1\\right) e^{s}$"
      ],
      "text/plain": [
       "C1 + (s - 1)*exp(s)"
      ]
     },
     "metadata": {},
     "output_type": "display_data"
    }
   ],
   "source": [
    "ex = s*exp(s)\n",
    "display(ex)\n",
    "res = integrate(ex, s) + C1\n",
    "display(res)"
   ]
  },
  {
   "cell_type": "code",
   "execution_count": 123,
   "id": "cc2c5a6a",
   "metadata": {},
   "outputs": [
    {
     "data": {
      "text/latex": [
       "$\\displaystyle e^{2 t} \\cos{\\left(t \\right)}$"
      ],
      "text/plain": [
       "exp(2*t)*cos(t)"
      ]
     },
     "metadata": {},
     "output_type": "display_data"
    },
    {
     "data": {
      "text/latex": [
       "$\\displaystyle C_{1} + \\frac{e^{2 t} \\sin{\\left(t \\right)}}{5} + \\frac{2 e^{2 t} \\cos{\\left(t \\right)}}{5}$"
      ],
      "text/plain": [
       "C1 + exp(2*t)*sin(t)/5 + 2*exp(2*t)*cos(t)/5"
      ]
     },
     "metadata": {},
     "output_type": "display_data"
    }
   ],
   "source": [
    "ex = exp(2*t)*cos(t)\n",
    "display(ex)\n",
    "res = integrate(ex, t) + C1\n",
    "display(res)"
   ]
  },
  {
   "cell_type": "code",
   "execution_count": 124,
   "id": "69d0f1be",
   "metadata": {},
   "outputs": [
    {
     "data": {
      "text/latex": [
       "$\\displaystyle x^{3} - 1$"
      ],
      "text/plain": [
       "x**3 - 1"
      ]
     },
     "metadata": {},
     "output_type": "display_data"
    },
    {
     "data": {
      "text/latex": [
       "$\\displaystyle -2$"
      ],
      "text/plain": [
       "-2"
      ]
     },
     "metadata": {},
     "output_type": "display_data"
    }
   ],
   "source": [
    "# calculate definite integrals\n",
    "\n",
    "ex = x**3-1\n",
    "display(ex)\n",
    "res = integrate(ex, (x, -1, 1))\n",
    "display(res)"
   ]
  },
  {
   "cell_type": "code",
   "execution_count": 125,
   "id": "f8dd5183",
   "metadata": {},
   "outputs": [
    {
     "data": {
      "text/latex": [
       "$\\displaystyle \\frac{y - 1}{y + 1}$"
      ],
      "text/plain": [
       "(y - 1)/(y + 1)"
      ]
     },
     "metadata": {},
     "output_type": "display_data"
    },
    {
     "data": {
      "text/latex": [
       "$\\displaystyle - a + b + 2 \\log{\\left(a + 1 \\right)} - 2 \\log{\\left(b + 1 \\right)}$"
      ],
      "text/plain": [
       "-a + b + 2*log(a + 1) - 2*log(b + 1)"
      ]
     },
     "metadata": {},
     "output_type": "display_data"
    }
   ],
   "source": [
    "ex = (y-1)/(y+1)\n",
    "display(ex)\n",
    "res = integrate(ex, (y, a, b))\n",
    "display(res)"
   ]
  },
  {
   "cell_type": "code",
   "execution_count": 128,
   "id": "f67f6f0a",
   "metadata": {},
   "outputs": [
    {
     "data": {
      "text/latex": [
       "$\\displaystyle \\sin{\\left(2 \\phi \\right)}$"
      ],
      "text/plain": [
       "sin(2*phi)"
      ]
     },
     "metadata": {},
     "output_type": "display_data"
    },
    {
     "data": {
      "text/latex": [
       "$\\displaystyle 0$"
      ],
      "text/plain": [
       "0"
      ]
     },
     "metadata": {},
     "output_type": "display_data"
    }
   ],
   "source": [
    "ex = sin(2*phi)\n",
    "display(ex)\n",
    "res = integrate(ex, (phi, 0, 2*pi))\n",
    "display(res)"
   ]
  },
  {
   "cell_type": "code",
   "execution_count": null,
   "id": "fbcbb211",
   "metadata": {},
   "outputs": [],
   "source": [
    "ex = exp(-3*t)\n",
    "display(ex)\n",
    "res = integrate(ex, (phi, 0, 2*pi))\n",
    "display(res)"
   ]
  }
 ],
 "metadata": {
  "kernelspec": {
   "display_name": "Python 3 (ipykernel)",
   "language": "python",
   "name": "python3"
  },
  "language_info": {
   "codemirror_mode": {
    "name": "ipython",
    "version": 3
   },
   "file_extension": ".py",
   "mimetype": "text/x-python",
   "name": "python",
   "nbconvert_exporter": "python",
   "pygments_lexer": "ipython3",
   "version": "3.10.9"
  }
 },
 "nbformat": 4,
 "nbformat_minor": 5
}
